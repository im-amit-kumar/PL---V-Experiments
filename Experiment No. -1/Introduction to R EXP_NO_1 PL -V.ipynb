{
 "cells": [
  {
   "cell_type": "markdown",
   "metadata": {},
   "source": [
    "### <center><U> P.L. :- V </U> </center>\n",
    "-----------------------------------------------------------------------------------------------\n",
    "### <CENTER><U> EXPERIMENT NO.:-1 </U> </CENTER>\n",
    "----------------------------------------------------------------------------------------------\n",
    "#### <U>NAME :- AMIT KUMAR </U>\n",
    "------------------------------------\n",
    "#### <U>CLASS :- COMP - 2 </U>\n",
    "-----------------------------------\n",
    "#### <U>ROLL NO. : - 150 </U>\n",
    "------------------------------\n",
    "#### <U> PRN : - 1714110422 </U>\n",
    "---------------------------\n",
    "\n",
    "#### <U>AIM :- </U>\n",
    "\n",
    "#### <U>INTRODUCTION TO R PROGRAMMING </U>\n",
    "-----------------------------------------------------------------------------------------\n",
    "\n",
    "### <U>THEORY:- </U>\n",
    "-----------------------------------------------------------------------------------------\n",
    "#### <U> 1. Evolution of R programming </U>\n",
    "R is a programming language and software environment for statistical analysis, graphics representation and reporting. R was created by Ross Ihaka and Robert Gentleman at the University of Auckland, New Zealand, and is currently developed by the R Development Core Team.\n",
    "\n",
    "The core of R is an interpreted computer language which allows branching and looping as well as modular programming using functions. R allows integration with the procedures written in the C, C++, .Net, Python or FORTRAN languages for efficiency.\n",
    "\n",
    "R is freely available under the GNU General Public License, and pre-compiled binary versions are provided for various operating systems like Linux, Windows and Mac.\n",
    "\n",
    "R is free software distributed under a GNU-style copy left, and an official part of the GNU project called GNU S.\n",
    "\n",
    "R was initially written by Ross Ihaka and Robert Gentleman at the Department of Statistics of the University of Auckland in Auckland, New Zealand. R made its first appearance in 1993.\n",
    "\n",
    "•\tA large group of individuals has contributed to R by sending code and bug reports.\n",
    "\n",
    "•\tSince mid-1997 there has been a core group (the \"R Core Team\") who can modify the R source code archive.\n",
    "\n",
    "---------------------------------------------------------------------------------\n",
    "#### <U>  2. . R as a powerhouse of Big Data Analysis </U>\n",
    "\n",
    "R, the open source scripting language was released in 1995 and since then it has grown efficiently and has become a go-to language for the data scientists around the globe. R includes a large number of data packages, shelf graph functions, etc. which proves as a proficient language for big data analytics as it has effective data handling capability. Tech giants like Microsoft, Google are using R for large data analysis. In this article, we list down 6 ways R, the statistical language can be utilised for big data analytics.\n",
    "\n",
    "1| Data Analysis\n",
    "Exploratory data analysis is a term minted in data analysis using R. This is an approach for data analysis which includes a variety of techniques such as extraction of important variables, test underlying assumptions, maximising insights into the dataset, etc.\n",
    "\n",
    "\n",
    "\n",
    "2| Data Visualisation\n",
    "R has certain inbuilt plotting commands which makes it easier to create simple graphs. While ggplot2 can be said as one of the most versatile data visualisation package. ggplot2 implements the grammar of graphics which is a coherent system for describing and building graphs. This package allows the user to add, remove or alter components in a plot at a high level of abstraction.\n",
    "\n",
    "\n",
    "3| Data Wrangling\n",
    "Data Wrangling is the art of getting your data into R in a useful form for visualisation and modelling. It encompasses data transformation and plays a crucial part during a project. It includes basically three main parts, import, tidy and transform.\n",
    "\n",
    "\n",
    "4| RHIPE\n",
    "RHIPE stands for R and Hadoop Integrated Programming Environment. It is a software package which allows the R user to create MapReduce jobs that work entirely within the R environment using R expressions. The package uses the Divide and Recombine technique to perform data analytics over Big Data. This integration with R is a transformative change to MapReduce as it allows an analyst to quickly specify Maps and Reduces using the full power, flexibility, and expressiveness of the R interpreted language.\n",
    "\n",
    "5| ORCH\n",
    "ORCH stands for Oracle R Connector for Hadoop is a collection of R packages which provides predictive analytic techniques, written in R or Java as Hadoop MapReduce jobs, that can be applied to data in HDFS files. It also provides interfaces to work with Hive tables, the Apache Hadoop compute infrastructure, the local R environment, and Oracle database tables. There are several analytic algorithms in ORCH such as linear regression, neural networks for prediction, clustering, matrix completion using low-rank matrix factorization, and non-negative matrix factorization.\n",
    "\n",
    "6| RHadoop\n",
    "RHadoop is an open source collection of five R packages which allows users to manage as well as analyse data with Hadoop from an R environment. It allows data scientists familiar with R to quickly utilize the enterprise-grade capabilities of the MapR Hadoop distribution directly with the analytic capabilities of R. The three packages of RHadoop are as follows\n",
    "\n",
    "+ rhdfs – This package provides basic connectivity to the Hadoop Distributed File System.\n",
    "rmr2 – This package allows R developer to perform statistical analysis in R via Hadoop MapReduce functionality on a Hadoop cluster.\n",
    "rhbase – This package provides basic connectivity to the HBASE distributed database, using the Thrift server.\n",
    "\n",
    "+ plyrmr – This package enables the R user to perform common data manipulation operations, as found in popular packages such as plyr and reshape2, on very large data sets stored on Hadoop.\n",
    "\n",
    "+ ravro – This package adds the ability to read and write avro files from local and HDFS file system and adds an avro input format for rmr2.\n",
    "\n",
    "+ rmr2 – This package allows R developer to perform statistical analysis in R via Hadoop MapReduce functionality on a Hadoop cluster.\n",
    "\n",
    "+ rhbase – This package provides basic connectivity to the HBASE distributed database, using the Thrift server.\n",
    "\n",
    "+ plyrmr – This package enables the R user to perform common data manipulation operations, as found in popular packages such as plyr and reshape2, on very large data sets stored on Hadoop.\n",
    "\n",
    "+ ravro – This package adds the ability to read and write avro files from local and HDFS file system and adds an avro input format for rmr2.\n",
    "\n",
    "\n",
    "------------------------------------------------------------------------------\n",
    "\n",
    "#### <U>  3. CRAN </U>\n",
    "CRAN is a network of ftp and web servers around the world that store identical, up-to-date, versions of code and documentation for R. Please use the CRAN mirror nearest to you to minimize network load.\n",
    "\n",
    "CRAN task views aim to provide some guidance which packages on CRAN are relevant for tasks related to a certain topic. They give a brief overview of the included packages and can be automatically installed using the ctv package. The views are intended to have a sharp focus so that it is sufficiently clear which packages should be included (or excluded) - and they are not meant to endorse the \"best\" packages for a given task.\n",
    "\n",
    "•To automatically install the views, the ctv package needs to be installed, e.g., via install.packages(\"ctv\") and then the views can be installed via install.views or update.views (where the latter only installs those packages are not installed and up-to-date), e.g., ctv::install.views(\"Econometrics\") ctv::update.views(\"Econometrics\")\n",
    "\n",
    "•The task views are maintained by volunteers. You can help them by suggesting packages that should be included in their task views. The contact e-mail addresses are listed on the individual task view pages.\n",
    "\n",
    "•For general concerns regarding task views contact the ctv package maintainer.\n",
    "\n",
    "-------------------------------------------------------------------------------------\n",
    "\n",
    "#### <U> 4. Features of R programming </U>\n",
    "\n",
    "As stated earlier, R is a programming language and software environment for statistical analysis, graphics representation and reporting. The following are the important features of R −\n",
    "\n",
    "•\tR is a well-developed, simple and effective programming language which includes conditionals, loops, user defined recursive functions and input and output facilities.\n",
    "\n",
    "•\tR has an effective data handling and storage facility,\n",
    "\n",
    "•\tR provides a suite of operators for calculations on arrays, lists, vectors and matrices.\n",
    "\n",
    "•\tR provides a large, coherent and integrated collection of tools for data analysis.\n",
    "\n",
    "•\tR provides graphical facilities for data analysis and display either directly at the computer or printing at the papers.\n",
    "\n",
    "As a conclusion, R is world’s most widely used statistics programming language. It's the # 1 choice of data scientists and supported by a vibrant and talented community of contributors. R is taught in universities and deployed in mission critical business applications. This tutorial will teach you R programming along with suitable examples in simple and easy steps.\n",
    "\n",
    "------------------------------------------------------------------------------------------------------------\n",
    "#### <U> 5. Alternatives to R programming </U>\n",
    "\n",
    "<B><U>MATLAB</U> </B>\n",
    "\n",
    "•Classes and Objects: Object-Oriented programming brings great simplicity to the program. In Matlab, a class can be defined as a folder or directory of functions used to work with objects of that class whereas in R classes are available in the form of Packages.\n",
    "\n",
    "•Installation: R can run on any operating system but Matlab cannot run the same licensed version on the different operating systems unless different operating systems installed on the same physical machine.\n",
    "\n",
    "•Usage: R is basically used to solve problems related to statistics whereas Matlab is used for other aspects of mathematics such as calculus, plotting graphs, etc. R has many prepackaged programs that help to solve analytical problems, so in the analytics field, R is preferred over Matlab.\n",
    "\n",
    "•Learning Curve: R can be difficult for those who are new into the programming language as R uses natural programming syntax. Since it is open-source R has a massive amount of open source codes available that might help users to get started. On the contrary, Matlab is easier to learn as it has a lot of toolboxes for most of the functionalities. Since Matlab requires the license amount of code available online is scarce.\n",
    "\n",
    "•Preferred Language: R is the preferred language for performing data analysis by most of the industries whereas Matlab is mostly used by many Universities.\n",
    "\n",
    "•Add-on Products: Matlab has a lot of add-on products available to perform various tasks. One of them is Simulink. It is a graphical programming environment for modeling, simulating and analyzing multi-domain systems. R doesn’t have any add-on products as such it does have a lot of packages that need to be included in the program.\n",
    "\n",
    "<B><U>GNU OCTAVE </U> </B>\n",
    "\n",
    "Octave is easier to learn for the reasons other have stated, plus google almost anything in octave and the Matlab help will get you started. Octave is used for machine learning. As if octave best use is machine learning, is overstated (assuming that is what anyone meant). I cannot question that Octave has an advantage for teaching machine learning over R. But octave is good for a lot of things, and based on the octave forge libraries, it is used for sorts of engineering and science, as an open source substitute for Matlab. Which is being replaced in many labs by python. While octave is not open source Matlab. It is very useful to think of it as open source matlab. It is similar enough to make getting started easy. You might think about something else, the popularity of Matlab in my areas seems to be dropping rapidly, it is replace by Python with all those open source libraries. I see a lot of people using Jupiter notebook with python, and I forced to learn it whether or not a like it.\n",
    "\n",
    "<b><U> PYTHON </U> </b>\n",
    "\n",
    "R and Python are both open-source programming languages with a large community. New libraries or tools are added continuously to their respective catalog. R is mainly used for statistical analysis while Python provides a more general approach to data science.\n",
    "\n",
    "R and Python are state of the art in terms of programming language oriented towards data science. Learning both of them is, of course, the ideal solution. R and Python requires a time-investment, and such luxury is not available for everyone. Python is a general-purpose language with a readable syntax. R, however, is built by statisticians and encompasses their specific language.\n",
    "\n",
    "\n"
   ]
  },
  {
   "attachments": {
    "500px-01-RConsole.jpg": {
     "image/jpeg": "[encoded data removed]"
    },
    "500px-02-RStudio.jpg": {
     "image/jpeg": "[encoded data removed]"
    }
   },
   "cell_type": "markdown",
   "metadata": {},
   "source": [
    "### R CONSOLE AND R STUDIO USER INTERFACE\n",
    "\n",
    "![500px-01-RConsole.jpg](attachment:500px-01-RConsole.jpg)\n",
    "\n",
    "<CENTER> R CONSOLE </CENTER> \n",
    "\n",
    "-----------------------------------------------------------------------------------------------\n",
    "![500px-02-RStudio.jpg](attachment:500px-02-RStudio.jpg)\n",
    "\n",
    "<CENTER> R STUDIO </CENTER>"
   ]
  },
  {
   "cell_type": "markdown",
   "metadata": {},
   "source": [
    "## <u> Program </u>"
   ]
  },
  {
   "cell_type": "markdown",
   "metadata": {},
   "source": [
    "### Basic Types"
   ]
  },
  {
   "cell_type": "code",
   "execution_count": 1,
   "metadata": {},
   "outputs": [
    {
     "data": {
      "text/html": [
       "'numeric'"
      ],
      "text/latex": [
       "'numeric'"
      ],
      "text/markdown": [
       "'numeric'"
      ],
      "text/plain": [
       "[1] \"numeric\""
      ]
     },
     "metadata": {},
     "output_type": "display_data"
    }
   ],
   "source": [
    "#declaring variable of different classes\n",
    "#numeric\n",
    "x <- 20\n",
    "class(x)"
   ]
  },
  {
   "cell_type": "code",
   "execution_count": 2,
   "metadata": {},
   "outputs": [
    {
     "data": {
      "text/html": [
       "'character'"
      ],
      "text/latex": [
       "'character'"
      ],
      "text/markdown": [
       "'character'"
      ],
      "text/plain": [
       "[1] \"character\""
      ]
     },
     "metadata": {},
     "output_type": "display_data"
    }
   ],
   "source": [
    "#string\n",
    "y <- \"R is for data science\"\n",
    "class(y)"
   ]
  },
  {
   "cell_type": "code",
   "execution_count": 3,
   "metadata": {},
   "outputs": [
    {
     "data": {
      "text/html": [
       "'logical'"
      ],
      "text/latex": [
       "'logical'"
      ],
      "text/markdown": [
       "'logical'"
      ],
      "text/plain": [
       "[1] \"logical\""
      ]
     },
     "metadata": {},
     "output_type": "display_data"
    }
   ],
   "source": [
    "#boolean\n",
    "x <- TRUE\n",
    "class(x)\n"
   ]
  },
  {
   "cell_type": "markdown",
   "metadata": {},
   "source": [
    "### Variables\n",
    "\n",
    "Variables store values and are an important component in programming, especially for a data scientist. A variable can store a number, an object, a statistical result, vector, dataset, a model prediction basically anything R outputs. We can use that variable later simply by calling the name of the variable.\n",
    "\n",
    "#### First way to declare a variable:  use the `<-`\n",
    "name_of_variable <- value\n",
    "#### Second way to declare a variable:  use the `=`\n",
    "name_of_variable = value"
   ]
  },
  {
   "cell_type": "code",
   "execution_count": 4,
   "metadata": {},
   "outputs": [
    {
     "data": {
      "text/html": [
       "21"
      ],
      "text/latex": [
       "21"
      ],
      "text/markdown": [
       "21"
      ],
      "text/plain": [
       "[1] 21"
      ]
     },
     "metadata": {},
     "output_type": "display_data"
    }
   ],
   "source": [
    "x <- 21\n",
    "x"
   ]
  },
  {
   "cell_type": "code",
   "execution_count": 5,
   "metadata": {},
   "outputs": [
    {
     "data": {
      "text/html": [
       "10"
      ],
      "text/latex": [
       "10"
      ],
      "text/markdown": [
       "10"
      ],
      "text/plain": [
       "[1] 10"
      ]
     },
     "metadata": {},
     "output_type": "display_data"
    }
   ],
   "source": [
    "y <- 10\n",
    "y"
   ]
  },
  {
   "cell_type": "code",
   "execution_count": 6,
   "metadata": {},
   "outputs": [
    {
     "data": {
      "text/html": [
       "11"
      ],
      "text/latex": [
       "11"
      ],
      "text/markdown": [
       "11"
      ],
      "text/plain": [
       "[1] 11"
      ]
     },
     "metadata": {},
     "output_type": "display_data"
    }
   ],
   "source": [
    "x-y"
   ]
  },
  {
   "cell_type": "code",
   "execution_count": 7,
   "metadata": {},
   "outputs": [
    {
     "data": {
      "text/html": [
       "100"
      ],
      "text/latex": [
       "100"
      ],
      "text/markdown": [
       "100"
      ],
      "text/plain": [
       "[1] 100"
      ]
     },
     "metadata": {},
     "output_type": "display_data"
    }
   ],
   "source": [
    "z = 100\n",
    "z"
   ]
  },
  {
   "cell_type": "code",
   "execution_count": 8,
   "metadata": {},
   "outputs": [
    {
     "name": "stdout",
     "output_type": "stream",
     "text": [
      "Enter name: Amit Kumar\n",
      "Enter roll no: 150\n",
      "[1] \"Amit Kumar 150\"\n"
     ]
    }
   ],
   "source": [
    "my.name <- readline(prompt=\"Enter name: \")\n",
    "my.roll_no <- readline(prompt=\"Enter roll no: \")\n",
    "# convert character into integer\n",
    "my.roll_no <- as.integer(my.roll_no)\n",
    "print(paste(my.name,my.roll_no))"
   ]
  },
  {
   "cell_type": "markdown",
   "metadata": {},
   "source": [
    "### Arithmatic Operators"
   ]
  },
  {
   "cell_type": "markdown",
   "metadata": {},
   "source": [
    "We will first see the basic arithmetic operations in R. The following operators stand for:\n",
    "\n",
    "Operator\n",
    "\n",
    "Description\n",
    "\n",
    "Addition ----------------------   +\n",
    "\n",
    "Subtraction --------------------- -\n",
    "\n",
    "Multiplication ------------------ *\n",
    "   \n",
    "Division -------------------------/\n",
    "\n",
    "Exponentiation-----^ or **"
   ]
  },
  {
   "cell_type": "code",
   "execution_count": 9,
   "metadata": {},
   "outputs": [
    {
     "data": {
      "text/html": [
       "7"
      ],
      "text/latex": [
       "7"
      ],
      "text/markdown": [
       "7"
      ],
      "text/plain": [
       "[1] 7"
      ]
     },
     "metadata": {},
     "output_type": "display_data"
    }
   ],
   "source": [
    "# Addition\n",
    "3 + 4"
   ]
  },
  {
   "cell_type": "code",
   "execution_count": 10,
   "metadata": {},
   "outputs": [
    {
     "data": {
      "text/html": [
       "15"
      ],
      "text/latex": [
       "15"
      ],
      "text/markdown": [
       "15"
      ],
      "text/plain": [
       "[1] 15"
      ]
     },
     "metadata": {},
     "output_type": "display_data"
    }
   ],
   "source": [
    "#multiplication\n",
    "3 * 5"
   ]
  },
  {
   "cell_type": "code",
   "execution_count": 11,
   "metadata": {},
   "outputs": [
    {
     "data": {
      "text/html": [
       "10"
      ],
      "text/latex": [
       "10"
      ],
      "text/markdown": [
       "10"
      ],
      "text/plain": [
       "[1] 10"
      ]
     },
     "metadata": {},
     "output_type": "display_data"
    }
   ],
   "source": [
    "#divison\n",
    "(5+15)/2"
   ]
  },
  {
   "cell_type": "code",
   "execution_count": 12,
   "metadata": {},
   "outputs": [
    {
     "data": {
      "text/html": [
       "512"
      ],
      "text/latex": [
       "512"
      ],
      "text/markdown": [
       "512"
      ],
      "text/plain": [
       "[1] 512"
      ]
     },
     "metadata": {},
     "output_type": "display_data"
    }
   ],
   "source": [
    "#exponentiation\n",
    "2 ^ 9"
   ]
  },
  {
   "cell_type": "code",
   "execution_count": 13,
   "metadata": {},
   "outputs": [
    {
     "data": {
      "text/html": [
       "3"
      ],
      "text/latex": [
       "3"
      ],
      "text/markdown": [
       "3"
      ],
      "text/plain": [
       "[1] 3"
      ]
     },
     "metadata": {},
     "output_type": "display_data"
    }
   ],
   "source": [
    "#Modulo\n",
    "28%%5"
   ]
  },
  {
   "cell_type": "code",
   "execution_count": 14,
   "metadata": {},
   "outputs": [
    {
     "name": "stdout",
     "output_type": "stream",
     "text": [
      "Enter num 1: 99999\n",
      "Enter num 2 999\n",
      "[1] \"Addition  100998\"\n"
     ]
    }
   ],
   "source": [
    "# addition with variables\n",
    "my.no1 <- readline(prompt=\"Enter num 1: \")\n",
    "my.no2 <- readline(prompt=\"Enter num 2 \")\n",
    "# convert character into integer\n",
    "my.no1 <- as.integer(my.no1)\n",
    "my.no2 <- as.integer(my.no2)\n",
    "add = my.no1 + my.no2\n",
    "print(paste(\"Addition \", add))"
   ]
  },
  {
   "cell_type": "code",
   "execution_count": 15,
   "metadata": {},
   "outputs": [
    {
     "name": "stdout",
     "output_type": "stream",
     "text": [
      "Enter num 1: 110000\n",
      "Enter num 2 11\n",
      "[1] \"Subtraction  109989\"\n"
     ]
    }
   ],
   "source": [
    "# subtraction with with variables\n",
    "my.no1 <- readline(prompt=\"Enter num 1: \")\n",
    "my.no2 <- readline(prompt=\"Enter num 2 \")\n",
    "# convert character into integer\n",
    "my.no1 <- as.integer(my.no1)\n",
    "my.no2 <- as.integer(my.no2)\n",
    "sub = my.no1 - my.no2\n",
    "print(paste(\"Subtraction \", sub))"
   ]
  },
  {
   "cell_type": "code",
   "execution_count": 16,
   "metadata": {},
   "outputs": [
    {
     "name": "stdout",
     "output_type": "stream",
     "text": [
      "Enter num 1: 999\n",
      "Enter num 2: 11\n",
      "[1] \"Multiplication:  10989\"\n"
     ]
    }
   ],
   "source": [
    "# Multiplication with with variables\n",
    "my.no1 <- readline(prompt=\"Enter num 1: \")\n",
    "my.no2 <- readline(prompt=\"Enter num 2: \")\n",
    "# convert character into integer\n",
    "my.no1 <- as.integer(my.no1)\n",
    "my.no2 <- as.integer(my.no2)\n",
    "mul = my.no1 * my.no2\n",
    "print(paste(\"Multiplication: \", mul))"
   ]
  },
  {
   "cell_type": "code",
   "execution_count": 17,
   "metadata": {},
   "outputs": [
    {
     "name": "stdout",
     "output_type": "stream",
     "text": [
      "Enter num 1: 999\n",
      "Enter num 2 3\n",
      "[1] \"Division  333\"\n"
     ]
    }
   ],
   "source": [
    "# Division with with variables\n",
    "my.no1 <- readline(prompt=\"Enter num 1: \")\n",
    "my.no2 <- readline(prompt=\"Enter num 2 \")\n",
    "# convert character into integer\n",
    "my.no1 <- as.integer(my.no1)\n",
    "my.no2 <- as.integer(my.no2)\n",
    "div = my.no1 / my.no2\n",
    "print(paste(\"Division \", div))"
   ]
  },
  {
   "cell_type": "markdown",
   "metadata": {},
   "source": [
    "### Logical Operators\n"
   ]
  },
  {
   "attachments": {
    "032918_1328_RDataTypes1.png": {
     "image/png": "[encoded data removed]"
    }
   },
   "cell_type": "markdown",
   "metadata": {},
   "source": [
    "With logical operators, we want to return values inside the vector based on logical conditions. Following is a detailed list of logical operators available in R\n",
    "\n",
    "![032918_1328_RDataTypes1.png](attachment:032918_1328_RDataTypes1.png)\n"
   ]
  },
  {
   "cell_type": "markdown",
   "metadata": {},
   "source": [
    "The logical statements in R are wrapped inside the []. We can add many conditional statements as we like but we need to include them in a parenthesis. We can follow this structure to create a conditional statement:\n",
    "\n",
    "variable_name[(conditional_statement)]\n",
    "\n",
    "With variable_name referring to the variable, we want to use for the statement. We create the logical statement i.e. variable_name > 0. Finally, we use the square bracket to finalize the logical statement. Below, an example of a logical statement."
   ]
  },
  {
   "cell_type": "code",
   "execution_count": 18,
   "metadata": {},
   "outputs": [
    {
     "data": {
      "text/html": [
       "<ol class=list-inline>\n",
       "\t<li>FALSE</li>\n",
       "\t<li>FALSE</li>\n",
       "\t<li>FALSE</li>\n",
       "\t<li>FALSE</li>\n",
       "\t<li>FALSE</li>\n",
       "\t<li>TRUE</li>\n",
       "\t<li>TRUE</li>\n",
       "\t<li>TRUE</li>\n",
       "\t<li>TRUE</li>\n",
       "\t<li>TRUE</li>\n",
       "</ol>\n"
      ],
      "text/latex": [
       "\\begin{enumerate*}\n",
       "\\item FALSE\n",
       "\\item FALSE\n",
       "\\item FALSE\n",
       "\\item FALSE\n",
       "\\item FALSE\n",
       "\\item TRUE\n",
       "\\item TRUE\n",
       "\\item TRUE\n",
       "\\item TRUE\n",
       "\\item TRUE\n",
       "\\end{enumerate*}\n"
      ],
      "text/markdown": [
       "1. FALSE\n",
       "2. FALSE\n",
       "3. FALSE\n",
       "4. FALSE\n",
       "5. FALSE\n",
       "6. TRUE\n",
       "7. TRUE\n",
       "8. TRUE\n",
       "9. TRUE\n",
       "10. TRUE\n",
       "\n",
       "\n"
      ],
      "text/plain": [
       " [1] FALSE FALSE FALSE FALSE FALSE  TRUE  TRUE  TRUE  TRUE  TRUE"
      ]
     },
     "metadata": {},
     "output_type": "display_data"
    }
   ],
   "source": [
    "logical_vector <- c(1:10)\n",
    "logical_vector>5"
   ]
  },
  {
   "cell_type": "code",
   "execution_count": 19,
   "metadata": {},
   "outputs": [
    {
     "data": {
      "text/html": [
       "<ol class=list-inline>\n",
       "\t<li>6</li>\n",
       "\t<li>7</li>\n",
       "\t<li>8</li>\n",
       "\t<li>9</li>\n",
       "\t<li>10</li>\n",
       "</ol>\n"
      ],
      "text/latex": [
       "\\begin{enumerate*}\n",
       "\\item 6\n",
       "\\item 7\n",
       "\\item 8\n",
       "\\item 9\n",
       "\\item 10\n",
       "\\end{enumerate*}\n"
      ],
      "text/markdown": [
       "1. 6\n",
       "2. 7\n",
       "3. 8\n",
       "4. 9\n",
       "5. 10\n",
       "\n",
       "\n"
      ],
      "text/plain": [
       "[1]  6  7  8  9 10"
      ]
     },
     "metadata": {},
     "output_type": "display_data"
    }
   ],
   "source": [
    "logical_vector[logical_vector>5]"
   ]
  },
  {
   "cell_type": "code",
   "execution_count": 20,
   "metadata": {},
   "outputs": [
    {
     "data": {
      "text/html": [
       "<ol class=list-inline>\n",
       "\t<li>3</li>\n",
       "\t<li>4</li>\n",
       "\t<li>5</li>\n",
       "\t<li>6</li>\n",
       "\t<li>7</li>\n",
       "</ol>\n"
      ],
      "text/latex": [
       "\\begin{enumerate*}\n",
       "\\item 3\n",
       "\\item 4\n",
       "\\item 5\n",
       "\\item 6\n",
       "\\item 7\n",
       "\\end{enumerate*}\n"
      ],
      "text/markdown": [
       "1. 3\n",
       "2. 4\n",
       "3. 5\n",
       "4. 6\n",
       "5. 7\n",
       "\n",
       "\n"
      ],
      "text/plain": [
       "[1] 3 4 5 6 7"
      ]
     },
     "metadata": {},
     "output_type": "display_data"
    }
   ],
   "source": [
    "logical_vector <- c(1:10)\n",
    "logical_vector[(logical_vector>2) & (logical_vector<8)]"
   ]
  },
  {
   "cell_type": "code",
   "execution_count": 21,
   "metadata": {},
   "outputs": [
    {
     "data": {
      "text/html": [
       "'numeric'"
      ],
      "text/latex": [
       "'numeric'"
      ],
      "text/markdown": [
       "'numeric'"
      ],
      "text/plain": [
       "[1] \"numeric\""
      ]
     },
     "metadata": {},
     "output_type": "display_data"
    }
   ],
   "source": [
    "#loading a pre built daataset\n",
    "dataset <- mtcars\n",
    "class(dataset$mpg)"
   ]
  },
  {
   "cell_type": "code",
   "execution_count": 22,
   "metadata": {},
   "outputs": [
    {
     "data": {
      "text/html": [
       "<table>\n",
       "<thead><tr><th></th><th scope=col>mpg</th><th scope=col>cyl</th><th scope=col>disp</th><th scope=col>hp</th><th scope=col>drat</th><th scope=col>wt</th><th scope=col>qsec</th><th scope=col>vs</th><th scope=col>am</th><th scope=col>gear</th><th scope=col>carb</th></tr></thead>\n",
       "<tbody>\n",
       "\t<tr><th scope=row>Mazda RX4</th><td>21.0 </td><td>6    </td><td>160.0</td><td>110  </td><td>3.90 </td><td>2.620</td><td>16.46</td><td>0    </td><td>1    </td><td>4    </td><td>4    </td></tr>\n",
       "\t<tr><th scope=row>Mazda RX4 Wag</th><td>21.0 </td><td>6    </td><td>160.0</td><td>110  </td><td>3.90 </td><td>2.875</td><td>17.02</td><td>0    </td><td>1    </td><td>4    </td><td>4    </td></tr>\n",
       "\t<tr><th scope=row>Datsun 710</th><td>22.8 </td><td>4    </td><td>108.0</td><td> 93  </td><td>3.85 </td><td>2.320</td><td>18.61</td><td>1    </td><td>1    </td><td>4    </td><td>1    </td></tr>\n",
       "\t<tr><th scope=row>Hornet 4 Drive</th><td>21.4 </td><td>6    </td><td>258.0</td><td>110  </td><td>3.08 </td><td>3.215</td><td>19.44</td><td>1    </td><td>0    </td><td>3    </td><td>1    </td></tr>\n",
       "\t<tr><th scope=row>Hornet Sportabout</th><td>18.7 </td><td>8    </td><td>360.0</td><td>175  </td><td>3.15 </td><td>3.440</td><td>17.02</td><td>0    </td><td>0    </td><td>3    </td><td>2    </td></tr>\n",
       "\t<tr><th scope=row>Valiant</th><td>18.1 </td><td>6    </td><td>225.0</td><td>105  </td><td>2.76 </td><td>3.460</td><td>20.22</td><td>1    </td><td>0    </td><td>3    </td><td>1    </td></tr>\n",
       "\t<tr><th scope=row>Duster 360</th><td>14.3 </td><td>8    </td><td>360.0</td><td>245  </td><td>3.21 </td><td>3.570</td><td>15.84</td><td>0    </td><td>0    </td><td>3    </td><td>4    </td></tr>\n",
       "\t<tr><th scope=row>Merc 240D</th><td>24.4 </td><td>4    </td><td>146.7</td><td> 62  </td><td>3.69 </td><td>3.190</td><td>20.00</td><td>1    </td><td>0    </td><td>4    </td><td>2    </td></tr>\n",
       "\t<tr><th scope=row>Merc 230</th><td>22.8 </td><td>4    </td><td>140.8</td><td> 95  </td><td>3.92 </td><td>3.150</td><td>22.90</td><td>1    </td><td>0    </td><td>4    </td><td>2    </td></tr>\n",
       "\t<tr><th scope=row>Merc 280</th><td>19.2 </td><td>6    </td><td>167.6</td><td>123  </td><td>3.92 </td><td>3.440</td><td>18.30</td><td>1    </td><td>0    </td><td>4    </td><td>4    </td></tr>\n",
       "\t<tr><th scope=row>Merc 280C</th><td>17.8 </td><td>6    </td><td>167.6</td><td>123  </td><td>3.92 </td><td>3.440</td><td>18.90</td><td>1    </td><td>0    </td><td>4    </td><td>4    </td></tr>\n",
       "\t<tr><th scope=row>Merc 450SE</th><td>16.4 </td><td>8    </td><td>275.8</td><td>180  </td><td>3.07 </td><td>4.070</td><td>17.40</td><td>0    </td><td>0    </td><td>3    </td><td>3    </td></tr>\n",
       "\t<tr><th scope=row>Merc 450SL</th><td>17.3 </td><td>8    </td><td>275.8</td><td>180  </td><td>3.07 </td><td>3.730</td><td>17.60</td><td>0    </td><td>0    </td><td>3    </td><td>3    </td></tr>\n",
       "\t<tr><th scope=row>Merc 450SLC</th><td>15.2 </td><td>8    </td><td>275.8</td><td>180  </td><td>3.07 </td><td>3.780</td><td>18.00</td><td>0    </td><td>0    </td><td>3    </td><td>3    </td></tr>\n",
       "\t<tr><th scope=row>Cadillac Fleetwood</th><td>10.4 </td><td>8    </td><td>472.0</td><td>205  </td><td>2.93 </td><td>5.250</td><td>17.98</td><td>0    </td><td>0    </td><td>3    </td><td>4    </td></tr>\n",
       "\t<tr><th scope=row>Lincoln Continental</th><td>10.4 </td><td>8    </td><td>460.0</td><td>215  </td><td>3.00 </td><td>5.424</td><td>17.82</td><td>0    </td><td>0    </td><td>3    </td><td>4    </td></tr>\n",
       "\t<tr><th scope=row>Chrysler Imperial</th><td>14.7 </td><td>8    </td><td>440.0</td><td>230  </td><td>3.23 </td><td>5.345</td><td>17.42</td><td>0    </td><td>0    </td><td>3    </td><td>4    </td></tr>\n",
       "\t<tr><th scope=row>Fiat 128</th><td>32.4 </td><td>4    </td><td> 78.7</td><td> 66  </td><td>4.08 </td><td>2.200</td><td>19.47</td><td>1    </td><td>1    </td><td>4    </td><td>1    </td></tr>\n",
       "\t<tr><th scope=row>Honda Civic</th><td>30.4 </td><td>4    </td><td> 75.7</td><td> 52  </td><td>4.93 </td><td>1.615</td><td>18.52</td><td>1    </td><td>1    </td><td>4    </td><td>2    </td></tr>\n",
       "\t<tr><th scope=row>Toyota Corolla</th><td>33.9 </td><td>4    </td><td> 71.1</td><td> 65  </td><td>4.22 </td><td>1.835</td><td>19.90</td><td>1    </td><td>1    </td><td>4    </td><td>1    </td></tr>\n",
       "\t<tr><th scope=row>Toyota Corona</th><td>21.5 </td><td>4    </td><td>120.1</td><td> 97  </td><td>3.70 </td><td>2.465</td><td>20.01</td><td>1    </td><td>0    </td><td>3    </td><td>1    </td></tr>\n",
       "\t<tr><th scope=row>Dodge Challenger</th><td>15.5 </td><td>8    </td><td>318.0</td><td>150  </td><td>2.76 </td><td>3.520</td><td>16.87</td><td>0    </td><td>0    </td><td>3    </td><td>2    </td></tr>\n",
       "\t<tr><th scope=row>AMC Javelin</th><td>15.2 </td><td>8    </td><td>304.0</td><td>150  </td><td>3.15 </td><td>3.435</td><td>17.30</td><td>0    </td><td>0    </td><td>3    </td><td>2    </td></tr>\n",
       "\t<tr><th scope=row>Camaro Z28</th><td>13.3 </td><td>8    </td><td>350.0</td><td>245  </td><td>3.73 </td><td>3.840</td><td>15.41</td><td>0    </td><td>0    </td><td>3    </td><td>4    </td></tr>\n",
       "\t<tr><th scope=row>Pontiac Firebird</th><td>19.2 </td><td>8    </td><td>400.0</td><td>175  </td><td>3.08 </td><td>3.845</td><td>17.05</td><td>0    </td><td>0    </td><td>3    </td><td>2    </td></tr>\n",
       "\t<tr><th scope=row>Fiat X1-9</th><td>27.3 </td><td>4    </td><td> 79.0</td><td> 66  </td><td>4.08 </td><td>1.935</td><td>18.90</td><td>1    </td><td>1    </td><td>4    </td><td>1    </td></tr>\n",
       "\t<tr><th scope=row>Porsche 914-2</th><td>26.0 </td><td>4    </td><td>120.3</td><td> 91  </td><td>4.43 </td><td>2.140</td><td>16.70</td><td>0    </td><td>1    </td><td>5    </td><td>2    </td></tr>\n",
       "\t<tr><th scope=row>Lotus Europa</th><td>30.4 </td><td>4    </td><td> 95.1</td><td>113  </td><td>3.77 </td><td>1.513</td><td>16.90</td><td>1    </td><td>1    </td><td>5    </td><td>2    </td></tr>\n",
       "\t<tr><th scope=row>Ford Pantera L</th><td>15.8 </td><td>8    </td><td>351.0</td><td>264  </td><td>4.22 </td><td>3.170</td><td>14.50</td><td>0    </td><td>1    </td><td>5    </td><td>4    </td></tr>\n",
       "\t<tr><th scope=row>Ferrari Dino</th><td>19.7 </td><td>6    </td><td>145.0</td><td>175  </td><td>3.62 </td><td>2.770</td><td>15.50</td><td>0    </td><td>1    </td><td>5    </td><td>6    </td></tr>\n",
       "\t<tr><th scope=row>Maserati Bora</th><td>15.0 </td><td>8    </td><td>301.0</td><td>335  </td><td>3.54 </td><td>3.570</td><td>14.60</td><td>0    </td><td>1    </td><td>5    </td><td>8    </td></tr>\n",
       "\t<tr><th scope=row>Volvo 142E</th><td>21.4 </td><td>4    </td><td>121.0</td><td>109  </td><td>4.11 </td><td>2.780</td><td>18.60</td><td>1    </td><td>1    </td><td>4    </td><td>2    </td></tr>\n",
       "</tbody>\n",
       "</table>\n"
      ],
      "text/latex": [
       "\\begin{tabular}{r|lllllllllll}\n",
       "  & mpg & cyl & disp & hp & drat & wt & qsec & vs & am & gear & carb\\\\\n",
       "\\hline\n",
       "\tMazda RX4 & 21.0  & 6     & 160.0 & 110   & 3.90  & 2.620 & 16.46 & 0     & 1     & 4     & 4    \\\\\n",
       "\tMazda RX4 Wag & 21.0  & 6     & 160.0 & 110   & 3.90  & 2.875 & 17.02 & 0     & 1     & 4     & 4    \\\\\n",
       "\tDatsun 710 & 22.8  & 4     & 108.0 &  93   & 3.85  & 2.320 & 18.61 & 1     & 1     & 4     & 1    \\\\\n",
       "\tHornet 4 Drive & 21.4  & 6     & 258.0 & 110   & 3.08  & 3.215 & 19.44 & 1     & 0     & 3     & 1    \\\\\n",
       "\tHornet Sportabout & 18.7  & 8     & 360.0 & 175   & 3.15  & 3.440 & 17.02 & 0     & 0     & 3     & 2    \\\\\n",
       "\tValiant & 18.1  & 6     & 225.0 & 105   & 2.76  & 3.460 & 20.22 & 1     & 0     & 3     & 1    \\\\\n",
       "\tDuster 360 & 14.3  & 8     & 360.0 & 245   & 3.21  & 3.570 & 15.84 & 0     & 0     & 3     & 4    \\\\\n",
       "\tMerc 240D & 24.4  & 4     & 146.7 &  62   & 3.69  & 3.190 & 20.00 & 1     & 0     & 4     & 2    \\\\\n",
       "\tMerc 230 & 22.8  & 4     & 140.8 &  95   & 3.92  & 3.150 & 22.90 & 1     & 0     & 4     & 2    \\\\\n",
       "\tMerc 280 & 19.2  & 6     & 167.6 & 123   & 3.92  & 3.440 & 18.30 & 1     & 0     & 4     & 4    \\\\\n",
       "\tMerc 280C & 17.8  & 6     & 167.6 & 123   & 3.92  & 3.440 & 18.90 & 1     & 0     & 4     & 4    \\\\\n",
       "\tMerc 450SE & 16.4  & 8     & 275.8 & 180   & 3.07  & 4.070 & 17.40 & 0     & 0     & 3     & 3    \\\\\n",
       "\tMerc 450SL & 17.3  & 8     & 275.8 & 180   & 3.07  & 3.730 & 17.60 & 0     & 0     & 3     & 3    \\\\\n",
       "\tMerc 450SLC & 15.2  & 8     & 275.8 & 180   & 3.07  & 3.780 & 18.00 & 0     & 0     & 3     & 3    \\\\\n",
       "\tCadillac Fleetwood & 10.4  & 8     & 472.0 & 205   & 2.93  & 5.250 & 17.98 & 0     & 0     & 3     & 4    \\\\\n",
       "\tLincoln Continental & 10.4  & 8     & 460.0 & 215   & 3.00  & 5.424 & 17.82 & 0     & 0     & 3     & 4    \\\\\n",
       "\tChrysler Imperial & 14.7  & 8     & 440.0 & 230   & 3.23  & 5.345 & 17.42 & 0     & 0     & 3     & 4    \\\\\n",
       "\tFiat 128 & 32.4  & 4     &  78.7 &  66   & 4.08  & 2.200 & 19.47 & 1     & 1     & 4     & 1    \\\\\n",
       "\tHonda Civic & 30.4  & 4     &  75.7 &  52   & 4.93  & 1.615 & 18.52 & 1     & 1     & 4     & 2    \\\\\n",
       "\tToyota Corolla & 33.9  & 4     &  71.1 &  65   & 4.22  & 1.835 & 19.90 & 1     & 1     & 4     & 1    \\\\\n",
       "\tToyota Corona & 21.5  & 4     & 120.1 &  97   & 3.70  & 2.465 & 20.01 & 1     & 0     & 3     & 1    \\\\\n",
       "\tDodge Challenger & 15.5  & 8     & 318.0 & 150   & 2.76  & 3.520 & 16.87 & 0     & 0     & 3     & 2    \\\\\n",
       "\tAMC Javelin & 15.2  & 8     & 304.0 & 150   & 3.15  & 3.435 & 17.30 & 0     & 0     & 3     & 2    \\\\\n",
       "\tCamaro Z28 & 13.3  & 8     & 350.0 & 245   & 3.73  & 3.840 & 15.41 & 0     & 0     & 3     & 4    \\\\\n",
       "\tPontiac Firebird & 19.2  & 8     & 400.0 & 175   & 3.08  & 3.845 & 17.05 & 0     & 0     & 3     & 2    \\\\\n",
       "\tFiat X1-9 & 27.3  & 4     &  79.0 &  66   & 4.08  & 1.935 & 18.90 & 1     & 1     & 4     & 1    \\\\\n",
       "\tPorsche 914-2 & 26.0  & 4     & 120.3 &  91   & 4.43  & 2.140 & 16.70 & 0     & 1     & 5     & 2    \\\\\n",
       "\tLotus Europa & 30.4  & 4     &  95.1 & 113   & 3.77  & 1.513 & 16.90 & 1     & 1     & 5     & 2    \\\\\n",
       "\tFord Pantera L & 15.8  & 8     & 351.0 & 264   & 4.22  & 3.170 & 14.50 & 0     & 1     & 5     & 4    \\\\\n",
       "\tFerrari Dino & 19.7  & 6     & 145.0 & 175   & 3.62  & 2.770 & 15.50 & 0     & 1     & 5     & 6    \\\\\n",
       "\tMaserati Bora & 15.0  & 8     & 301.0 & 335   & 3.54  & 3.570 & 14.60 & 0     & 1     & 5     & 8    \\\\\n",
       "\tVolvo 142E & 21.4  & 4     & 121.0 & 109   & 4.11  & 2.780 & 18.60 & 1     & 1     & 4     & 2    \\\\\n",
       "\\end{tabular}\n"
      ],
      "text/markdown": [
       "\n",
       "| <!--/--> | mpg | cyl | disp | hp | drat | wt | qsec | vs | am | gear | carb |\n",
       "|---|---|---|---|---|---|---|---|---|---|---|---|\n",
       "| Mazda RX4 | 21.0  | 6     | 160.0 | 110   | 3.90  | 2.620 | 16.46 | 0     | 1     | 4     | 4     |\n",
       "| Mazda RX4 Wag | 21.0  | 6     | 160.0 | 110   | 3.90  | 2.875 | 17.02 | 0     | 1     | 4     | 4     |\n",
       "| Datsun 710 | 22.8  | 4     | 108.0 |  93   | 3.85  | 2.320 | 18.61 | 1     | 1     | 4     | 1     |\n",
       "| Hornet 4 Drive | 21.4  | 6     | 258.0 | 110   | 3.08  | 3.215 | 19.44 | 1     | 0     | 3     | 1     |\n",
       "| Hornet Sportabout | 18.7  | 8     | 360.0 | 175   | 3.15  | 3.440 | 17.02 | 0     | 0     | 3     | 2     |\n",
       "| Valiant | 18.1  | 6     | 225.0 | 105   | 2.76  | 3.460 | 20.22 | 1     | 0     | 3     | 1     |\n",
       "| Duster 360 | 14.3  | 8     | 360.0 | 245   | 3.21  | 3.570 | 15.84 | 0     | 0     | 3     | 4     |\n",
       "| Merc 240D | 24.4  | 4     | 146.7 |  62   | 3.69  | 3.190 | 20.00 | 1     | 0     | 4     | 2     |\n",
       "| Merc 230 | 22.8  | 4     | 140.8 |  95   | 3.92  | 3.150 | 22.90 | 1     | 0     | 4     | 2     |\n",
       "| Merc 280 | 19.2  | 6     | 167.6 | 123   | 3.92  | 3.440 | 18.30 | 1     | 0     | 4     | 4     |\n",
       "| Merc 280C | 17.8  | 6     | 167.6 | 123   | 3.92  | 3.440 | 18.90 | 1     | 0     | 4     | 4     |\n",
       "| Merc 450SE | 16.4  | 8     | 275.8 | 180   | 3.07  | 4.070 | 17.40 | 0     | 0     | 3     | 3     |\n",
       "| Merc 450SL | 17.3  | 8     | 275.8 | 180   | 3.07  | 3.730 | 17.60 | 0     | 0     | 3     | 3     |\n",
       "| Merc 450SLC | 15.2  | 8     | 275.8 | 180   | 3.07  | 3.780 | 18.00 | 0     | 0     | 3     | 3     |\n",
       "| Cadillac Fleetwood | 10.4  | 8     | 472.0 | 205   | 2.93  | 5.250 | 17.98 | 0     | 0     | 3     | 4     |\n",
       "| Lincoln Continental | 10.4  | 8     | 460.0 | 215   | 3.00  | 5.424 | 17.82 | 0     | 0     | 3     | 4     |\n",
       "| Chrysler Imperial | 14.7  | 8     | 440.0 | 230   | 3.23  | 5.345 | 17.42 | 0     | 0     | 3     | 4     |\n",
       "| Fiat 128 | 32.4  | 4     |  78.7 |  66   | 4.08  | 2.200 | 19.47 | 1     | 1     | 4     | 1     |\n",
       "| Honda Civic | 30.4  | 4     |  75.7 |  52   | 4.93  | 1.615 | 18.52 | 1     | 1     | 4     | 2     |\n",
       "| Toyota Corolla | 33.9  | 4     |  71.1 |  65   | 4.22  | 1.835 | 19.90 | 1     | 1     | 4     | 1     |\n",
       "| Toyota Corona | 21.5  | 4     | 120.1 |  97   | 3.70  | 2.465 | 20.01 | 1     | 0     | 3     | 1     |\n",
       "| Dodge Challenger | 15.5  | 8     | 318.0 | 150   | 2.76  | 3.520 | 16.87 | 0     | 0     | 3     | 2     |\n",
       "| AMC Javelin | 15.2  | 8     | 304.0 | 150   | 3.15  | 3.435 | 17.30 | 0     | 0     | 3     | 2     |\n",
       "| Camaro Z28 | 13.3  | 8     | 350.0 | 245   | 3.73  | 3.840 | 15.41 | 0     | 0     | 3     | 4     |\n",
       "| Pontiac Firebird | 19.2  | 8     | 400.0 | 175   | 3.08  | 3.845 | 17.05 | 0     | 0     | 3     | 2     |\n",
       "| Fiat X1-9 | 27.3  | 4     |  79.0 |  66   | 4.08  | 1.935 | 18.90 | 1     | 1     | 4     | 1     |\n",
       "| Porsche 914-2 | 26.0  | 4     | 120.3 |  91   | 4.43  | 2.140 | 16.70 | 0     | 1     | 5     | 2     |\n",
       "| Lotus Europa | 30.4  | 4     |  95.1 | 113   | 3.77  | 1.513 | 16.90 | 1     | 1     | 5     | 2     |\n",
       "| Ford Pantera L | 15.8  | 8     | 351.0 | 264   | 4.22  | 3.170 | 14.50 | 0     | 1     | 5     | 4     |\n",
       "| Ferrari Dino | 19.7  | 6     | 145.0 | 175   | 3.62  | 2.770 | 15.50 | 0     | 1     | 5     | 6     |\n",
       "| Maserati Bora | 15.0  | 8     | 301.0 | 335   | 3.54  | 3.570 | 14.60 | 0     | 1     | 5     | 8     |\n",
       "| Volvo 142E | 21.4  | 4     | 121.0 | 109   | 4.11  | 2.780 | 18.60 | 1     | 1     | 4     | 2     |\n",
       "\n"
      ],
      "text/plain": [
       "                    mpg  cyl disp  hp  drat wt    qsec  vs am gear carb\n",
       "Mazda RX4           21.0 6   160.0 110 3.90 2.620 16.46 0  1  4    4   \n",
       "Mazda RX4 Wag       21.0 6   160.0 110 3.90 2.875 17.02 0  1  4    4   \n",
       "Datsun 710          22.8 4   108.0  93 3.85 2.320 18.61 1  1  4    1   \n",
       "Hornet 4 Drive      21.4 6   258.0 110 3.08 3.215 19.44 1  0  3    1   \n",
       "Hornet Sportabout   18.7 8   360.0 175 3.15 3.440 17.02 0  0  3    2   \n",
       "Valiant             18.1 6   225.0 105 2.76 3.460 20.22 1  0  3    1   \n",
       "Duster 360          14.3 8   360.0 245 3.21 3.570 15.84 0  0  3    4   \n",
       "Merc 240D           24.4 4   146.7  62 3.69 3.190 20.00 1  0  4    2   \n",
       "Merc 230            22.8 4   140.8  95 3.92 3.150 22.90 1  0  4    2   \n",
       "Merc 280            19.2 6   167.6 123 3.92 3.440 18.30 1  0  4    4   \n",
       "Merc 280C           17.8 6   167.6 123 3.92 3.440 18.90 1  0  4    4   \n",
       "Merc 450SE          16.4 8   275.8 180 3.07 4.070 17.40 0  0  3    3   \n",
       "Merc 450SL          17.3 8   275.8 180 3.07 3.730 17.60 0  0  3    3   \n",
       "Merc 450SLC         15.2 8   275.8 180 3.07 3.780 18.00 0  0  3    3   \n",
       "Cadillac Fleetwood  10.4 8   472.0 205 2.93 5.250 17.98 0  0  3    4   \n",
       "Lincoln Continental 10.4 8   460.0 215 3.00 5.424 17.82 0  0  3    4   \n",
       "Chrysler Imperial   14.7 8   440.0 230 3.23 5.345 17.42 0  0  3    4   \n",
       "Fiat 128            32.4 4    78.7  66 4.08 2.200 19.47 1  1  4    1   \n",
       "Honda Civic         30.4 4    75.7  52 4.93 1.615 18.52 1  1  4    2   \n",
       "Toyota Corolla      33.9 4    71.1  65 4.22 1.835 19.90 1  1  4    1   \n",
       "Toyota Corona       21.5 4   120.1  97 3.70 2.465 20.01 1  0  3    1   \n",
       "Dodge Challenger    15.5 8   318.0 150 2.76 3.520 16.87 0  0  3    2   \n",
       "AMC Javelin         15.2 8   304.0 150 3.15 3.435 17.30 0  0  3    2   \n",
       "Camaro Z28          13.3 8   350.0 245 3.73 3.840 15.41 0  0  3    4   \n",
       "Pontiac Firebird    19.2 8   400.0 175 3.08 3.845 17.05 0  0  3    2   \n",
       "Fiat X1-9           27.3 4    79.0  66 4.08 1.935 18.90 1  1  4    1   \n",
       "Porsche 914-2       26.0 4   120.3  91 4.43 2.140 16.70 0  1  5    2   \n",
       "Lotus Europa        30.4 4    95.1 113 3.77 1.513 16.90 1  1  5    2   \n",
       "Ford Pantera L      15.8 8   351.0 264 4.22 3.170 14.50 0  1  5    4   \n",
       "Ferrari Dino        19.7 6   145.0 175 3.62 2.770 15.50 0  1  5    6   \n",
       "Maserati Bora       15.0 8   301.0 335 3.54 3.570 14.60 0  1  5    8   \n",
       "Volvo 142E          21.4 4   121.0 109 4.11 2.780 18.60 1  1  4    2   "
      ]
     },
     "metadata": {},
     "output_type": "display_data"
    }
   ],
   "source": [
    "dataset"
   ]
  },
  {
   "cell_type": "code",
   "execution_count": 23,
   "metadata": {},
   "outputs": [
    {
     "data": {
      "text/html": [
       "<table>\n",
       "<thead><tr><th scope=col>x</th><th scope=col>state</th><th scope=col>year</th><th scope=col>govelec</th><th scope=col>black</th></tr></thead>\n",
       "<tbody>\n",
       "\t<tr><td>1     </td><td>1     </td><td>80    </td><td>0     </td><td>0.2560</td></tr>\n",
       "\t<tr><td>2     </td><td>1     </td><td>81    </td><td>0     </td><td>0.2557</td></tr>\n",
       "\t<tr><td>3     </td><td>1     </td><td>82    </td><td>1     </td><td>0.2554</td></tr>\n",
       "\t<tr><td>4     </td><td>1     </td><td>83    </td><td>0     </td><td>0.2551</td></tr>\n",
       "\t<tr><td>5     </td><td>1     </td><td>84    </td><td>0     </td><td>0.2548</td></tr>\n",
       "</tbody>\n",
       "</table>\n"
      ],
      "text/latex": [
       "\\begin{tabular}{r|lllll}\n",
       " x & state & year & govelec & black\\\\\n",
       "\\hline\n",
       "\t 1      & 1      & 80     & 0      & 0.2560\\\\\n",
       "\t 2      & 1      & 81     & 0      & 0.2557\\\\\n",
       "\t 3      & 1      & 82     & 1      & 0.2554\\\\\n",
       "\t 4      & 1      & 83     & 0      & 0.2551\\\\\n",
       "\t 5      & 1      & 84     & 0      & 0.2548\\\\\n",
       "\\end{tabular}\n"
      ],
      "text/markdown": [
       "\n",
       "| x | state | year | govelec | black |\n",
       "|---|---|---|---|---|\n",
       "| 1      | 1      | 80     | 0      | 0.2560 |\n",
       "| 2      | 1      | 81     | 0      | 0.2557 |\n",
       "| 3      | 1      | 82     | 1      | 0.2554 |\n",
       "| 4      | 1      | 83     | 0      | 0.2551 |\n",
       "| 5      | 1      | 84     | 0      | 0.2548 |\n",
       "\n"
      ],
      "text/plain": [
       "  x state year govelec black \n",
       "1 1 1     80   0       0.2560\n",
       "2 2 1     81   0       0.2557\n",
       "3 3 1     82   1       0.2554\n",
       "4 4 1     83   0       0.2551\n",
       "5 5 1     84   0       0.2548"
      ]
     },
     "metadata": {},
     "output_type": "display_data"
    }
   ],
   "source": [
    "#loading a csv from network\n",
    "PATH <-'https://raw.githubusercontent.com/guru99-edu/R-Programming/master/prison.csv'\n",
    "df <- read.csv(PATH)[1:5]\n",
    "head(df, 5)"
   ]
  },
  {
   "cell_type": "code",
   "execution_count": 24,
   "metadata": {},
   "outputs": [
    {
     "name": "stdout",
     "output_type": "stream",
     "text": [
      "'data.frame':\t714 obs. of  5 variables:\n",
      " $ x      : int  1 2 3 4 5 6 7 8 9 10 ...\n",
      " $ state  : int  1 1 1 1 1 1 1 1 1 1 ...\n",
      " $ year   : int  80 81 82 83 84 85 86 87 88 89 ...\n",
      " $ govelec: int  0 0 1 0 0 0 1 0 0 0 ...\n",
      " $ black  : num  0.256 0.256 0.255 0.255 0.255 ...\n"
     ]
    }
   ],
   "source": [
    "# Structure of the data\n",
    "str(df)"
   ]
  },
  {
   "attachments": {
    "032818_1241_IFELSEELIF1.png": {
     "image/png": "[encoded data removed]"
    }
   },
   "cell_type": "markdown",
   "metadata": {},
   "source": [
    "### IF, ELSE, ELSE IF Statement in R\n",
    "\n",
    "\n",
    "The if else statement\n",
    "\n",
    "An if-else statement is a great tool for the developer trying to return an output based on a condition. In R, the syntax is:\n",
    "\n",
    "if (condition) {\n",
    "\n",
    "    Expr1\n",
    "    \n",
    "} else {\n",
    "\n",
    "    Expr2\n",
    "    \n",
    "}\n",
    "\n",
    "![032818_1241_IFELSEELIF1.png](attachment:032818_1241_IFELSEELIF1.png)"
   ]
  },
  {
   "cell_type": "code",
   "execution_count": 25,
   "metadata": {},
   "outputs": [
    {
     "name": "stdout",
     "output_type": "stream",
     "text": [
      "[1] \"You sold a lot!\"\n"
     ]
    }
   ],
   "source": [
    "# Create vector quantity\n",
    "quantity <-  25\n",
    "# Set the is-else statement\n",
    "if (quantity > 20) {\n",
    "    print('You sold a lot!')\n",
    "} else {\n",
    "    print('Not enough for today')  \n",
    "}"
   ]
  },
  {
   "cell_type": "markdown",
   "metadata": {},
   "source": [
    "### The else if statement\n",
    "\n",
    "We can further customize the control level with the else if statement. With elif, you can add as many conditions as we want. The syntax is:\n",
    "\n",
    "\n",
    "if (condition1) { \n",
    "\n",
    "    expr1\n",
    "    \n",
    "    } else if (condition2) {\n",
    "    \n",
    "    expr2\n",
    "    \n",
    "    } else if  (condition3) {\n",
    "    \n",
    "    expr3\n",
    "    \n",
    "    } else {\n",
    "    \n",
    "    expr4\n",
    "    \n",
    "}"
   ]
  },
  {
   "cell_type": "code",
   "execution_count": 26,
   "metadata": {},
   "outputs": [
    {
     "name": "stdout",
     "output_type": "stream",
     "text": [
      "[1] \"Not enough for today\"\n"
     ]
    }
   ],
   "source": [
    "# Create vector quantiy\n",
    "quantity <-  10\n",
    "# Create multiple condition statement\n",
    "if (quantity <20) {\n",
    "      print('Not enough for today')\n",
    "} else if (quantity > 20  &quantity <= 30) {\n",
    "     print('Average day')\n",
    "} else {\n",
    "      print('What a great day!')\n",
    "}"
   ]
  },
  {
   "cell_type": "markdown",
   "metadata": {},
   "source": [
    "### Functions in R Programming\n"
   ]
  },
  {
   "cell_type": "markdown",
   "metadata": {},
   "source": [
    "A function, in a programming environment, is a set of instructions. A programmer builds a function to avoid repeating the same task, or reduce complexity.\n",
    "\n",
    "\n",
    "A function should be\n",
    "\n",
    "\n",
    "+ written to carry out a specified a tasks\n",
    "+ may or may not include arguments\n",
    "+ contain a body\n",
    "+ may or may not return one or more values.\n",
    "\n",
    "A general approach to a function is to use the argument part as inputs, feed the body part and finally return an output. The Syntax of a function is the following:\n",
    "\n",
    "\n",
    "function (arglist)  {\n",
    "\n",
    "  #Function body\n",
    "  \n",
    "}"
   ]
  },
  {
   "cell_type": "markdown",
   "metadata": {},
   "source": [
    "### R important built-in functions\n"
   ]
  },
  {
   "cell_type": "markdown",
   "metadata": {},
   "source": [
    "There are a lot of built-in function in R. R matches your input parameters with its function arguments, either by value or by position, then executes the function body. Function arguments can have default values: if you do not specify these arguments, R will take the default value.\n",
    "\n",
    "Note: It is possible to see the source code of a function by running the name of the function itself in the console.\n",
    "\n",
    "We will see three groups of function in action\n",
    "\n",
    "+ General function\n",
    "+ Maths function\n",
    "+ Statistical function\n",
    "\n",
    "#### General functions\n",
    "We are already familiar with general functions like cbind(), rbind(),range(),sort(),order() functions. Each of these functions has a specific task, takes arguments to return an output. Following are important functions one must know-"
   ]
  },
  {
   "cell_type": "code",
   "execution_count": 27,
   "metadata": {},
   "outputs": [
    {
     "data": {
      "text/html": [
       "2"
      ],
      "text/latex": [
       "2"
      ],
      "text/markdown": [
       "2"
      ],
      "text/plain": [
       "[1] 2"
      ]
     },
     "metadata": {},
     "output_type": "display_data"
    }
   ],
   "source": [
    "dt <- cars\n",
    "## number columns\n",
    "length(dt)"
   ]
  },
  {
   "cell_type": "code",
   "execution_count": 28,
   "metadata": {},
   "outputs": [
    {
     "data": {
      "text/html": [
       "50"
      ],
      "text/latex": [
       "50"
      ],
      "text/markdown": [
       "50"
      ],
      "text/plain": [
       "[1] 50"
      ]
     },
     "metadata": {},
     "output_type": "display_data"
    }
   ],
   "source": [
    "length(dt[,2])"
   ]
  },
  {
   "cell_type": "markdown",
   "metadata": {},
   "source": [
    "### Maths functions\n",
    "R has an array of mathematical functions.\n",
    "\n",
    "Operator\tDescription\n",
    "\n",
    "abs(x)---------Takes the absolute value of x\n",
    "\n",
    "log(x,base=y)--Takes the logarithm of x with base y; if base is not specified, returns the                       natural logarithm\n",
    "\n",
    "exp(x)---------Returns the exponential of x\n",
    "\n",
    "sqrt(x)--------Returns the square root of x\n",
    "\n",
    "factorial(x)---Returns the factorial of x (x!)\n",
    "\n"
   ]
  },
  {
   "cell_type": "code",
   "execution_count": 29,
   "metadata": {},
   "outputs": [
    {
     "data": {
      "text/html": [
       "<ol class=list-inline>\n",
       "\t<li>3.80666248977032</li>\n",
       "\t<li>3.8286413964891</li>\n",
       "\t<li>3.85014760171006</li>\n",
       "\t<li>3.87120101090789</li>\n",
       "\t<li>3.89182029811063</li>\n",
       "\t<li>3.91202300542815</li>\n",
       "\t<li>3.93182563272433</li>\n",
       "\t<li>3.95124371858143</li>\n",
       "\t<li>3.97029191355212</li>\n",
       "\t<li>3.98898404656427</li>\n",
       "\t<li>4.00733318523247</li>\n",
       "</ol>\n"
      ],
      "text/latex": [
       "\\begin{enumerate*}\n",
       "\\item 3.80666248977032\n",
       "\\item 3.8286413964891\n",
       "\\item 3.85014760171006\n",
       "\\item 3.87120101090789\n",
       "\\item 3.89182029811063\n",
       "\\item 3.91202300542815\n",
       "\\item 3.93182563272433\n",
       "\\item 3.95124371858143\n",
       "\\item 3.97029191355212\n",
       "\\item 3.98898404656427\n",
       "\\item 4.00733318523247\n",
       "\\end{enumerate*}\n"
      ],
      "text/markdown": [
       "1. 3.80666248977032\n",
       "2. 3.8286413964891\n",
       "3. 3.85014760171006\n",
       "4. 3.87120101090789\n",
       "5. 3.89182029811063\n",
       "6. 3.91202300542815\n",
       "7. 3.93182563272433\n",
       "8. 3.95124371858143\n",
       "9. 3.97029191355212\n",
       "10. 3.98898404656427\n",
       "11. 4.00733318523247\n",
       "\n",
       "\n"
      ],
      "text/plain": [
       " [1] 3.806662 3.828641 3.850148 3.871201 3.891820 3.912023 3.931826 3.951244\n",
       " [9] 3.970292 3.988984 4.007333"
      ]
     },
     "metadata": {},
     "output_type": "display_data"
    }
   ],
   "source": [
    "# sequence of number from 44 to 55 both including incremented by 1\n",
    "x_vector <- seq(45,55, by = 1)\n",
    "#logarithm\n",
    "log(x_vector)"
   ]
  },
  {
   "cell_type": "code",
   "execution_count": 30,
   "metadata": {},
   "outputs": [
    {
     "data": {
      "text/html": [
       "<ol class=list-inline>\n",
       "\t<li>34934271057485094912</li>\n",
       "\t<li>94961194206024482826</li>\n",
       "\t<li>2.58131288619007e+20</li>\n",
       "\t<li>7.01673591209763e+20</li>\n",
       "\t<li>1.9073465724951e+21</li>\n",
       "\t<li>5.18470552858707e+21</li>\n",
       "\t<li>1.40934908242694e+22</li>\n",
       "\t<li>3.83100800071658e+22</li>\n",
       "\t<li>1.04137594330291e+23</li>\n",
       "\t<li>2.83075330327469e+23</li>\n",
       "\t<li>7.69478526514202e+23</li>\n",
       "</ol>\n"
      ],
      "text/latex": [
       "\\begin{enumerate*}\n",
       "\\item 34934271057485094912\n",
       "\\item 94961194206024482826\n",
       "\\item 2.58131288619007e+20\n",
       "\\item 7.01673591209763e+20\n",
       "\\item 1.9073465724951e+21\n",
       "\\item 5.18470552858707e+21\n",
       "\\item 1.40934908242694e+22\n",
       "\\item 3.83100800071658e+22\n",
       "\\item 1.04137594330291e+23\n",
       "\\item 2.83075330327469e+23\n",
       "\\item 7.69478526514202e+23\n",
       "\\end{enumerate*}\n"
      ],
      "text/markdown": [
       "1. 34934271057485094912\n",
       "2. 94961194206024482826\n",
       "3. 2.58131288619007e+20\n",
       "4. 7.01673591209763e+20\n",
       "5. 1.9073465724951e+21\n",
       "6. 5.18470552858707e+21\n",
       "7. 1.40934908242694e+22\n",
       "8. 3.83100800071658e+22\n",
       "9. 1.04137594330291e+23\n",
       "10. 2.83075330327469e+23\n",
       "11. 7.69478526514202e+23\n",
       "\n",
       "\n"
      ],
      "text/plain": [
       " [1] 3.493427e+19 9.496119e+19 2.581313e+20 7.016736e+20 1.907347e+21\n",
       " [6] 5.184706e+21 1.409349e+22 3.831008e+22 1.041376e+23 2.830753e+23\n",
       "[11] 7.694785e+23"
      ]
     },
     "metadata": {},
     "output_type": "display_data"
    }
   ],
   "source": [
    "#exponential\n",
    "exp(x_vector)"
   ]
  },
  {
   "cell_type": "code",
   "execution_count": 31,
   "metadata": {},
   "outputs": [
    {
     "data": {
      "text/html": [
       "<ol class=list-inline>\n",
       "\t<li>6.70820393249937</li>\n",
       "\t<li>6.78232998312527</li>\n",
       "\t<li>6.85565460040104</li>\n",
       "\t<li>6.92820323027551</li>\n",
       "\t<li>7</li>\n",
       "\t<li>7.07106781186548</li>\n",
       "\t<li>7.14142842854285</li>\n",
       "\t<li>7.21110255092798</li>\n",
       "\t<li>7.28010988928052</li>\n",
       "\t<li>7.34846922834953</li>\n",
       "\t<li>7.41619848709566</li>\n",
       "</ol>\n"
      ],
      "text/latex": [
       "\\begin{enumerate*}\n",
       "\\item 6.70820393249937\n",
       "\\item 6.78232998312527\n",
       "\\item 6.85565460040104\n",
       "\\item 6.92820323027551\n",
       "\\item 7\n",
       "\\item 7.07106781186548\n",
       "\\item 7.14142842854285\n",
       "\\item 7.21110255092798\n",
       "\\item 7.28010988928052\n",
       "\\item 7.34846922834953\n",
       "\\item 7.41619848709566\n",
       "\\end{enumerate*}\n"
      ],
      "text/markdown": [
       "1. 6.70820393249937\n",
       "2. 6.78232998312527\n",
       "3. 6.85565460040104\n",
       "4. 6.92820323027551\n",
       "5. 7\n",
       "6. 7.07106781186548\n",
       "7. 7.14142842854285\n",
       "8. 7.21110255092798\n",
       "9. 7.28010988928052\n",
       "10. 7.34846922834953\n",
       "11. 7.41619848709566\n",
       "\n",
       "\n"
      ],
      "text/plain": [
       " [1] 6.708204 6.782330 6.855655 6.928203 7.000000 7.071068 7.141428 7.211103\n",
       " [9] 7.280110 7.348469 7.416198"
      ]
     },
     "metadata": {},
     "output_type": "display_data"
    }
   ],
   "source": [
    "#squared root\n",
    "sqrt(x_vector)"
   ]
  },
  {
   "cell_type": "code",
   "execution_count": 32,
   "metadata": {},
   "outputs": [
    {
     "data": {
      "text/html": [
       "<ol class=list-inline>\n",
       "\t<li>1.1962222086548e+56</li>\n",
       "\t<li>5.50262215981209e+57</li>\n",
       "\t<li>2.58623241511168e+59</li>\n",
       "\t<li>1.24139155925361e+61</li>\n",
       "\t<li>6.08281864034268e+62</li>\n",
       "\t<li>3.0414093201713e+64</li>\n",
       "\t<li>1.55111875328741e+66</li>\n",
       "\t<li>8.06581751709449e+67</li>\n",
       "\t<li>4.27488328406012e+69</li>\n",
       "\t<li>2.30843697339245e+71</li>\n",
       "\t<li>1.26964033536586e+73</li>\n",
       "</ol>\n"
      ],
      "text/latex": [
       "\\begin{enumerate*}\n",
       "\\item 1.1962222086548e+56\n",
       "\\item 5.50262215981209e+57\n",
       "\\item 2.58623241511168e+59\n",
       "\\item 1.24139155925361e+61\n",
       "\\item 6.08281864034268e+62\n",
       "\\item 3.0414093201713e+64\n",
       "\\item 1.55111875328741e+66\n",
       "\\item 8.06581751709449e+67\n",
       "\\item 4.27488328406012e+69\n",
       "\\item 2.30843697339245e+71\n",
       "\\item 1.26964033536586e+73\n",
       "\\end{enumerate*}\n"
      ],
      "text/markdown": [
       "1. 1.1962222086548e+56\n",
       "2. 5.50262215981209e+57\n",
       "3. 2.58623241511168e+59\n",
       "4. 1.24139155925361e+61\n",
       "5. 6.08281864034268e+62\n",
       "6. 3.0414093201713e+64\n",
       "7. 1.55111875328741e+66\n",
       "8. 8.06581751709449e+67\n",
       "9. 4.27488328406012e+69\n",
       "10. 2.30843697339245e+71\n",
       "11. 1.26964033536586e+73\n",
       "\n",
       "\n"
      ],
      "text/plain": [
       " [1] 1.196222e+56 5.502622e+57 2.586232e+59 1.241392e+61 6.082819e+62\n",
       " [6] 3.041409e+64 1.551119e+66 8.065818e+67 4.274883e+69 2.308437e+71\n",
       "[11] 1.269640e+73"
      ]
     },
     "metadata": {},
     "output_type": "display_data"
    }
   ],
   "source": [
    "#factorial\n",
    "factorial(x_vector)"
   ]
  },
  {
   "cell_type": "markdown",
   "metadata": {},
   "source": [
    "### Statistical functions\n",
    "\n",
    "R standard installation contains wide range of statistical functions. In this tutorial, we will briefly look at the most important function.."
   ]
  },
  {
   "cell_type": "markdown",
   "metadata": {},
   "source": [
    "\n",
    "Operator-------------------------------------Description\n",
    "\n",
    "\n",
    "mean(x)--------------------------------------Mean of x\n",
    "\n",
    "\n",
    "median(x)------------------------------------Median of x\n",
    "\n",
    "\n",
    "var(x)---------------------------------------Variance of x\n",
    "\n",
    "\n",
    "sd(x)----------------------------------------Standard deviation of x\n",
    "\n",
    "\n",
    "scale(x)-------------------------------------Standard scores (z-scores) of x\n",
    "\n",
    "\n",
    "quantile(x)----------------------------------The quartiles of x\n",
    "\n",
    "\n",
    "summary(x)-----------------------------------Summary of x: mean, min, max etc.."
   ]
  },
  {
   "cell_type": "code",
   "execution_count": 33,
   "metadata": {},
   "outputs": [
    {
     "data": {
      "text/html": [
       "<ol class=list-inline>\n",
       "\t<li>4</li>\n",
       "\t<li>4</li>\n",
       "\t<li>7</li>\n",
       "\t<li>7</li>\n",
       "\t<li>8</li>\n",
       "\t<li>9</li>\n",
       "\t<li>10</li>\n",
       "\t<li>10</li>\n",
       "\t<li>10</li>\n",
       "\t<li>11</li>\n",
       "\t<li>11</li>\n",
       "\t<li>12</li>\n",
       "\t<li>12</li>\n",
       "\t<li>12</li>\n",
       "\t<li>12</li>\n",
       "\t<li>13</li>\n",
       "\t<li>13</li>\n",
       "\t<li>13</li>\n",
       "\t<li>13</li>\n",
       "\t<li>14</li>\n",
       "\t<li>14</li>\n",
       "\t<li>14</li>\n",
       "\t<li>14</li>\n",
       "\t<li>15</li>\n",
       "\t<li>15</li>\n",
       "\t<li>15</li>\n",
       "\t<li>16</li>\n",
       "\t<li>16</li>\n",
       "\t<li>17</li>\n",
       "\t<li>17</li>\n",
       "\t<li>17</li>\n",
       "\t<li>18</li>\n",
       "\t<li>18</li>\n",
       "\t<li>18</li>\n",
       "\t<li>18</li>\n",
       "\t<li>19</li>\n",
       "\t<li>19</li>\n",
       "\t<li>19</li>\n",
       "\t<li>20</li>\n",
       "\t<li>20</li>\n",
       "\t<li>20</li>\n",
       "\t<li>20</li>\n",
       "\t<li>20</li>\n",
       "\t<li>22</li>\n",
       "\t<li>23</li>\n",
       "\t<li>24</li>\n",
       "\t<li>24</li>\n",
       "\t<li>24</li>\n",
       "\t<li>24</li>\n",
       "\t<li>25</li>\n",
       "</ol>\n"
      ],
      "text/latex": [
       "\\begin{enumerate*}\n",
       "\\item 4\n",
       "\\item 4\n",
       "\\item 7\n",
       "\\item 7\n",
       "\\item 8\n",
       "\\item 9\n",
       "\\item 10\n",
       "\\item 10\n",
       "\\item 10\n",
       "\\item 11\n",
       "\\item 11\n",
       "\\item 12\n",
       "\\item 12\n",
       "\\item 12\n",
       "\\item 12\n",
       "\\item 13\n",
       "\\item 13\n",
       "\\item 13\n",
       "\\item 13\n",
       "\\item 14\n",
       "\\item 14\n",
       "\\item 14\n",
       "\\item 14\n",
       "\\item 15\n",
       "\\item 15\n",
       "\\item 15\n",
       "\\item 16\n",
       "\\item 16\n",
       "\\item 17\n",
       "\\item 17\n",
       "\\item 17\n",
       "\\item 18\n",
       "\\item 18\n",
       "\\item 18\n",
       "\\item 18\n",
       "\\item 19\n",
       "\\item 19\n",
       "\\item 19\n",
       "\\item 20\n",
       "\\item 20\n",
       "\\item 20\n",
       "\\item 20\n",
       "\\item 20\n",
       "\\item 22\n",
       "\\item 23\n",
       "\\item 24\n",
       "\\item 24\n",
       "\\item 24\n",
       "\\item 24\n",
       "\\item 25\n",
       "\\end{enumerate*}\n"
      ],
      "text/markdown": [
       "1. 4\n",
       "2. 4\n",
       "3. 7\n",
       "4. 7\n",
       "5. 8\n",
       "6. 9\n",
       "7. 10\n",
       "8. 10\n",
       "9. 10\n",
       "10. 11\n",
       "11. 11\n",
       "12. 12\n",
       "13. 12\n",
       "14. 12\n",
       "15. 12\n",
       "16. 13\n",
       "17. 13\n",
       "18. 13\n",
       "19. 13\n",
       "20. 14\n",
       "21. 14\n",
       "22. 14\n",
       "23. 14\n",
       "24. 15\n",
       "25. 15\n",
       "26. 15\n",
       "27. 16\n",
       "28. 16\n",
       "29. 17\n",
       "30. 17\n",
       "31. 17\n",
       "32. 18\n",
       "33. 18\n",
       "34. 18\n",
       "35. 18\n",
       "36. 19\n",
       "37. 19\n",
       "38. 19\n",
       "39. 20\n",
       "40. 20\n",
       "41. 20\n",
       "42. 20\n",
       "43. 20\n",
       "44. 22\n",
       "45. 23\n",
       "46. 24\n",
       "47. 24\n",
       "48. 24\n",
       "49. 24\n",
       "50. 25\n",
       "\n",
       "\n"
      ],
      "text/plain": [
       " [1]  4  4  7  7  8  9 10 10 10 11 11 12 12 12 12 13 13 13 13 14 14 14 14 15 15\n",
       "[26] 15 16 16 17 17 17 18 18 18 18 19 19 19 20 20 20 20 20 22 23 24 24 24 24 25"
      ]
     },
     "metadata": {},
     "output_type": "display_data"
    },
    {
     "data": {
      "text/html": [
       "15.4"
      ],
      "text/latex": [
       "15.4"
      ],
      "text/markdown": [
       "15.4"
      ],
      "text/plain": [
       "[1] 15.4"
      ]
     },
     "metadata": {},
     "output_type": "display_data"
    }
   ],
   "source": [
    "speed <- dt$speed\n",
    "speed\n",
    "# Mean speed of cars dataset\n",
    "mean(speed)\n"
   ]
  },
  {
   "cell_type": "code",
   "execution_count": 34,
   "metadata": {},
   "outputs": [
    {
     "data": {
      "text/html": [
       "15"
      ],
      "text/latex": [
       "15"
      ],
      "text/markdown": [
       "15"
      ],
      "text/plain": [
       "[1] 15"
      ]
     },
     "metadata": {},
     "output_type": "display_data"
    }
   ],
   "source": [
    "# Median speed of cars dataset\n",
    "median(speed)"
   ]
  },
  {
   "cell_type": "code",
   "execution_count": 35,
   "metadata": {},
   "outputs": [
    {
     "data": {
      "text/html": [
       "27.9591836734694"
      ],
      "text/latex": [
       "27.9591836734694"
      ],
      "text/markdown": [
       "27.9591836734694"
      ],
      "text/plain": [
       "[1] 27.95918"
      ]
     },
     "metadata": {},
     "output_type": "display_data"
    }
   ],
   "source": [
    "# Variance speed of cars dataset\n",
    "var(speed)"
   ]
  },
  {
   "cell_type": "code",
   "execution_count": 36,
   "metadata": {},
   "outputs": [
    {
     "data": {
      "text/html": [
       "5.28764443523478"
      ],
      "text/latex": [
       "5.28764443523478"
      ],
      "text/markdown": [
       "5.28764443523478"
      ],
      "text/plain": [
       "[1] 5.287644"
      ]
     },
     "metadata": {},
     "output_type": "display_data"
    }
   ],
   "source": [
    "# Standard deviation speed of cars dataset\n",
    "sd(speed)"
   ]
  },
  {
   "cell_type": "code",
   "execution_count": 37,
   "metadata": {},
   "outputs": [
    {
     "data": {
      "text/html": [
       "<table>\n",
       "<tbody>\n",
       "\t<tr><td>-2.155969</td></tr>\n",
       "\t<tr><td>-2.155969</td></tr>\n",
       "\t<tr><td>-1.588609</td></tr>\n",
       "\t<tr><td>-1.588609</td></tr>\n",
       "\t<tr><td>-1.399489</td></tr>\n",
       "</tbody>\n",
       "</table>\n"
      ],
      "text/latex": [
       "\\begin{tabular}{l}\n",
       "\t -2.155969\\\\\n",
       "\t -2.155969\\\\\n",
       "\t -1.588609\\\\\n",
       "\t -1.588609\\\\\n",
       "\t -1.399489\\\\\n",
       "\\end{tabular}\n"
      ],
      "text/markdown": [
       "\n",
       "| -2.155969 |\n",
       "| -2.155969 |\n",
       "| -1.588609 |\n",
       "| -1.588609 |\n",
       "| -1.399489 |\n",
       "\n"
      ],
      "text/plain": [
       "     [,1]     \n",
       "[1,] -2.155969\n",
       "[2,] -2.155969\n",
       "[3,] -1.588609\n",
       "[4,] -1.588609\n",
       "[5,] -1.399489"
      ]
     },
     "metadata": {},
     "output_type": "display_data"
    }
   ],
   "source": [
    "# Standardize vector speed of cars dataset\t\t\n",
    "head(scale(speed), 5)"
   ]
  },
  {
   "cell_type": "code",
   "execution_count": 38,
   "metadata": {},
   "outputs": [
    {
     "data": {
      "text/html": [
       "<dl class=dl-horizontal>\n",
       "\t<dt>0%</dt>\n",
       "\t\t<dd>4</dd>\n",
       "\t<dt>25%</dt>\n",
       "\t\t<dd>12</dd>\n",
       "\t<dt>50%</dt>\n",
       "\t\t<dd>15</dd>\n",
       "\t<dt>75%</dt>\n",
       "\t\t<dd>19</dd>\n",
       "\t<dt>100%</dt>\n",
       "\t\t<dd>25</dd>\n",
       "</dl>\n"
      ],
      "text/latex": [
       "\\begin{description*}\n",
       "\\item[0\\textbackslash{}\\%] 4\n",
       "\\item[25\\textbackslash{}\\%] 12\n",
       "\\item[50\\textbackslash{}\\%] 15\n",
       "\\item[75\\textbackslash{}\\%] 19\n",
       "\\item[100\\textbackslash{}\\%] 25\n",
       "\\end{description*}\n"
      ],
      "text/markdown": [
       "0%\n",
       ":   425%\n",
       ":   1250%\n",
       ":   1575%\n",
       ":   19100%\n",
       ":   25\n",
       "\n"
      ],
      "text/plain": [
       "  0%  25%  50%  75% 100% \n",
       "   4   12   15   19   25 "
      ]
     },
     "metadata": {},
     "output_type": "display_data"
    }
   ],
   "source": [
    "# Quantile speed of cars dataset\n",
    "quantile(speed)"
   ]
  },
  {
   "cell_type": "code",
   "execution_count": 39,
   "metadata": {},
   "outputs": [
    {
     "data": {
      "text/plain": [
       "   Min. 1st Qu.  Median    Mean 3rd Qu.    Max. \n",
       "    4.0    12.0    15.0    15.4    19.0    25.0 "
      ]
     },
     "metadata": {},
     "output_type": "display_data"
    }
   ],
   "source": [
    "summary(speed)\n"
   ]
  },
  {
   "cell_type": "markdown",
   "metadata": {},
   "source": [
    "### Write function in R\n",
    "\n",
    "In some occasion, we need to write our own function because we have to accomplish a particular task and no ready made function exists. A user-defined function involves a name, arguments and a body.\n",
    "\n",
    "function.name <- function(arguments) \n",
    "\n",
    "{\n",
    "\n",
    "    computations on the arguments\n",
    "    \n",
    "    some other code\n",
    "    \n",
    "}"
   ]
  },
  {
   "cell_type": "code",
   "execution_count": 40,
   "metadata": {},
   "outputs": [
    {
     "data": {
      "text/html": [
       "16"
      ],
      "text/latex": [
       "16"
      ],
      "text/markdown": [
       "16"
      ],
      "text/plain": [
       "[1] 16"
      ]
     },
     "metadata": {},
     "output_type": "display_data"
    }
   ],
   "source": [
    "square_function<- function(n) \n",
    "{\n",
    "  # compute the square of integer `n`\n",
    "  n^2\n",
    "}  \n",
    "# calling the function and passing value 4\n",
    "square_function(4)"
   ]
  },
  {
   "cell_type": "markdown",
   "metadata": {},
   "source": [
    "### Multi arguments function\n",
    "We can write a function with more than one argument. Consider the function called \"times\". It is a straightforward function multiplying two variables."
   ]
  },
  {
   "cell_type": "code",
   "execution_count": 41,
   "metadata": {},
   "outputs": [
    {
     "data": {
      "text/html": [
       "8"
      ],
      "text/latex": [
       "8"
      ],
      "text/markdown": [
       "8"
      ],
      "text/plain": [
       "[1] 8"
      ]
     },
     "metadata": {},
     "output_type": "display_data"
    }
   ],
   "source": [
    "times <- function(x,y) {\n",
    "  x*y\n",
    "\t}\n",
    "times(2,4)"
   ]
  },
  {
   "cell_type": "markdown",
   "metadata": {},
   "source": [
    "### Functions with condition\n",
    "Sometimes, we need to include conditions into a function to allow the code to return different outputs.\n",
    "\n",
    "split_data <- function(df, train = TRUE)\n",
    "\n",
    "Arguments:\n",
    "\n",
    "-df: Define the dataset\n",
    "\n",
    "-train: Specify if the function returns the train set or test set. By default, set to TRUE"
   ]
  },
  {
   "cell_type": "code",
   "execution_count": 42,
   "metadata": {},
   "outputs": [],
   "source": [
    "#IMP :- Train Test Split Function \n",
    "split_data <- function(df, train = TRUE){\n",
    "  length<- nrow(df)\n",
    "  total_row <- length *0.8\n",
    "  split <- 1:total_row\n",
    "  if (train ==TRUE){ \n",
    "    train_df <- df[split, ] \n",
    "      return(train_df)\t\t\n",
    "  } else {\n",
    "    test_df <- df[-split, ] \n",
    "      return(test_df)\t\t\n",
    "  }\n",
    "}"
   ]
  },
  {
   "cell_type": "code",
   "execution_count": 43,
   "metadata": {},
   "outputs": [
    {
     "data": {
      "text/html": [
       "<ol class=list-inline>\n",
       "\t<li>122</li>\n",
       "\t<li>6</li>\n",
       "</ol>\n"
      ],
      "text/latex": [
       "\\begin{enumerate*}\n",
       "\\item 122\n",
       "\\item 6\n",
       "\\end{enumerate*}\n"
      ],
      "text/markdown": [
       "1. 122\n",
       "2. 6\n",
       "\n",
       "\n"
      ],
      "text/plain": [
       "[1] 122   6"
      ]
     },
     "metadata": {},
     "output_type": "display_data"
    }
   ],
   "source": [
    "train <- split_data(airquality, train = TRUE)\n",
    "dim(train)"
   ]
  },
  {
   "cell_type": "code",
   "execution_count": 44,
   "metadata": {},
   "outputs": [
    {
     "data": {
      "text/html": [
       "<ol class=list-inline>\n",
       "\t<li>31</li>\n",
       "\t<li>6</li>\n",
       "</ol>\n"
      ],
      "text/latex": [
       "\\begin{enumerate*}\n",
       "\\item 31\n",
       "\\item 6\n",
       "\\end{enumerate*}\n"
      ],
      "text/markdown": [
       "1. 31\n",
       "2. 6\n",
       "\n",
       "\n"
      ],
      "text/plain": [
       "[1] 31  6"
      ]
     },
     "metadata": {},
     "output_type": "display_data"
    }
   ],
   "source": [
    "test <- split_data(airquality, train = FALSE)\n",
    "dim(test)"
   ]
  },
  {
   "attachments": {
    "032818_1243_ForLoopinRw1.png": {
     "image/png": "[encoded data removed]"
    }
   },
   "cell_type": "markdown",
   "metadata": {},
   "source": [
    "### For Loop in R \n",
    "\n",
    "A for loop is very valuable when we need to iterate over a list of elements or a range of numbers.Loop can be used to iterate over a list, data frame, vector, matrix or any other object. The braces and square bracket are compulsory.\n",
    "\n",
    "For Loop Syntax and Examples\n",
    "\n",
    "For (i in vector) {\n",
    "\n",
    "    Exp\t\n",
    "    \n",
    "}\n",
    "\n",
    "R will loop over all the variables in vector and do the computation written inside the exp.\n",
    "\n",
    "![032818_1243_ForLoopinRw1.png](attachment:032818_1243_ForLoopinRw1.png)"
   ]
  },
  {
   "cell_type": "code",
   "execution_count": 45,
   "metadata": {},
   "outputs": [
    {
     "name": "stdout",
     "output_type": "stream",
     "text": [
      "[1] \"Apple\"\n",
      "[1] \"Orange\"\n",
      "[1] \"Passion fruit\"\n",
      "[1] \"Banana\"\n"
     ]
    }
   ],
   "source": [
    "# Create fruit vector\n",
    "fruit <- c('Apple', 'Orange', 'Passion fruit', 'Banana')\n",
    "# Create the for statement\n",
    "for ( i in fruit){ \n",
    " print(i)\n",
    "}"
   ]
  },
  {
   "cell_type": "code",
   "execution_count": 46,
   "metadata": {},
   "outputs": [
    {
     "name": "stdout",
     "output_type": "stream",
     "text": [
      "[1]  1  4  9 16\n"
     ]
    }
   ],
   "source": [
    "# Create an empty list\n",
    "list <- c()\n",
    "# Create a for statement to populate the list\n",
    "for (i in seq(1, 4, by=1)) {\n",
    "  list[[i]] <- i*i\n",
    "}\n",
    "print(list)"
   ]
  },
  {
   "cell_type": "markdown",
   "metadata": {},
   "source": [
    "### For Loop over a list\n",
    "\n",
    "Looping over a list is just as easy and convenient as looping over a vector. Let's see an example\n",
    "\n",
    "\n"
   ]
  },
  {
   "cell_type": "code",
   "execution_count": 47,
   "metadata": {},
   "outputs": [
    {
     "name": "stdout",
     "output_type": "stream",
     "text": [
      "[1] \"Apple\"         \"Orange\"        \"Passion fruit\" \"Banana\"       \n",
      "[1] 10 12 15\n",
      "[1] FALSE\n"
     ]
    }
   ],
   "source": [
    "# Create a list with three vectors\n",
    "fruit <- list(Basket = c('Apple','Orange','Passion fruit', 'Banana'), \n",
    "Money = c(10, 12, 15), purchase = FALSE)\n",
    "for (p  in fruit) \n",
    "{ \n",
    "\tprint(p)\n",
    "}"
   ]
  },
  {
   "cell_type": "markdown",
   "metadata": {},
   "source": [
    "### For Loop over a matrix\n",
    "A matrix has 2-dimension, rows and columns. To iterate over a matrix, we have to define two for loop, namely one for the rows and another for the column."
   ]
  },
  {
   "cell_type": "code",
   "execution_count": 48,
   "metadata": {},
   "outputs": [
    {
     "name": "stderr",
     "output_type": "stream",
     "text": [
      "Warning message in matrix(data = seq(10, 20, by = 1), nrow = 6, ncol = 2):\n",
      "\"data length [11] is not a sub-multiple or multiple of the number of rows [6]\""
     ]
    },
    {
     "name": "stdout",
     "output_type": "stream",
     "text": [
      "[1] \"Row 1 and column 1 have values of 10\"\n",
      "[1] \"Row 1 and column 2 have values of 16\"\n",
      "[1] \"Row 2 and column 1 have values of 11\"\n",
      "[1] \"Row 2 and column 2 have values of 17\"\n",
      "[1] \"Row 3 and column 1 have values of 12\"\n",
      "[1] \"Row 3 and column 2 have values of 18\"\n",
      "[1] \"Row 4 and column 1 have values of 13\"\n",
      "[1] \"Row 4 and column 2 have values of 19\"\n",
      "[1] \"Row 5 and column 1 have values of 14\"\n",
      "[1] \"Row 5 and column 2 have values of 20\"\n",
      "[1] \"Row 6 and column 1 have values of 15\"\n",
      "[1] \"Row 6 and column 2 have values of 10\"\n"
     ]
    }
   ],
   "source": [
    "# Create a matrix\n",
    "mat <- matrix(data = seq(10, 20, by=1), nrow = 6, ncol =2)\n",
    "# Create the loop with r and c to iterate over the matrix\n",
    "for (r in 1:nrow(mat))   \n",
    "    for (c in 1:ncol(mat))  \n",
    "         print(paste(\"Row\", r, \"and column\",c, \"have values of\", mat[r,c]))  "
   ]
  },
  {
   "attachments": {
    "032818_1244_WhileLoopin1.png": {
     "image/png": "[encoded data removed]"
    }
   },
   "cell_type": "markdown",
   "metadata": {},
   "source": [
    "### While Loop in R \n",
    "\n",
    "\n",
    "A loop is a statement that keeps running until a condition is satisfied. The syntax for a while loop is the following:\n",
    "\n",
    "\n",
    "while (condition) {\n",
    "\n",
    "     Exp\n",
    "     \n",
    "}\n",
    "\n",
    "![032818_1244_WhileLoopin1.png](attachment:032818_1244_WhileLoopin1.png)\n",
    "\n",
    "-------------------------------------------------------While Loop Flow Chart------------------------------------------------------------------- \n",
    "\n",
    "Note: Remember to write a closing condition at some point otherwise the loop will go on indefinitely."
   ]
  },
  {
   "cell_type": "code",
   "execution_count": 49,
   "metadata": {},
   "outputs": [
    {
     "name": "stdout",
     "output_type": "stream",
     "text": [
      "This is loop number 1[1] 2\n",
      "This is loop number 2[1] 3\n",
      "This is loop number 3[1] 4\n",
      "This is loop number 4[1] 5\n",
      "This is loop number 5[1] 6\n",
      "This is loop number 6[1] 7\n",
      "This is loop number 7[1] 8\n",
      "This is loop number 8[1] 9\n",
      "This is loop number 9[1] 10\n",
      "This is loop number 10[1] 11\n"
     ]
    }
   ],
   "source": [
    "#Create a variable with value 1\n",
    "begin <- 1\n",
    "\n",
    "#Create the loop\n",
    "while (begin <= 10){\n",
    "\n",
    "#See which we are  \n",
    "cat('This is loop number',begin)\n",
    "\n",
    "#add 1 to the variable begin after each loop\n",
    "begin <- begin+1\n",
    "print(begin)\n",
    "}"
   ]
  },
  {
   "cell_type": "markdown",
   "metadata": {},
   "source": [
    "Example:- You bought a stock at price of 50 dollars. If the price goes below 45, we want to short it. Otherwise, we keep it in our portfolio. The price can fluctuate between -10 to +10 around 50 after each loop. You can write the code as follow:\n",
    "\n"
   ]
  },
  {
   "cell_type": "code",
   "execution_count": 50,
   "metadata": {},
   "outputs": [
    {
     "name": "stdout",
     "output_type": "stream",
     "text": [
      "[1] 2\n",
      "[1] 3\n",
      "[1] 4\n",
      "[1] 5\n"
     ]
    }
   ],
   "source": [
    "set.seed(123)\n",
    "# Set variable stock and price\n",
    "stock <- 50\n",
    "price <- 50\n",
    "\n",
    "# Loop variable counts the number of loops \n",
    "loop <- 1\n",
    "\n",
    "# Set the while statement\n",
    "while (price > 45){\n",
    "\n",
    "# Create a random price between 40 and 60\n",
    "price <- stock + sample(-10:10, 1)\n",
    "\n",
    "# Count the number of loop\n",
    "loop = loop +1 \n",
    "\n",
    "# Print the number of loop\n",
    "print(loop)\n",
    "}"
   ]
  },
  {
   "cell_type": "code",
   "execution_count": null,
   "metadata": {},
   "outputs": [],
   "source": []
  }
 ],
 "metadata": {
  "celltoolbar": "Raw Cell Format",
  "kernelspec": {
   "display_name": "R",
   "language": "R",
   "name": "ir"
  },
  "language_info": {
   "codemirror_mode": "r",
   "file_extension": ".r",
   "mimetype": "text/x-r-source",
   "name": "R",
   "pygments_lexer": "r",
   "version": "3.6.1"
  }
 },
 "nbformat": 4,
 "nbformat_minor": 4
}
